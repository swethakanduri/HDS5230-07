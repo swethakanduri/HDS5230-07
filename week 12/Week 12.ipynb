{
 "cells": [
  {
   "cell_type": "code",
   "execution_count": 1,
   "id": "5be8ba6c-444c-4c66-b590-3e682e2c57ed",
   "metadata": {},
   "outputs": [],
   "source": [
    "import pandas as pd\n",
    "import numpy as np\n",
    "import time\n",
    "from sklearn.model_selection import train_test_split\n",
    "from sklearn.preprocessing import StandardScaler\n",
    "from tensorflow.keras.models import Sequential\n",
    "from tensorflow.keras.layers import Dense\n",
    "from tensorflow.keras.optimizers import Adam\n",
    "from tensorflow.keras.losses import BinaryCrossentropy\n",
    "from tensorflow.keras.metrics import BinaryAccuracy"
   ]
  },
  {
   "cell_type": "code",
   "execution_count": 5,
   "id": "c43c4815-05e8-4ecd-a597-5d2d71a24806",
   "metadata": {},
   "outputs": [
    {
     "name": "stderr",
     "output_type": "stream",
     "text": [
      "/opt/anaconda3/lib/python3.12/site-packages/keras/src/layers/core/dense.py:87: UserWarning: Do not pass an `input_shape`/`input_dim` argument to a layer. When using Sequential models, prefer using an `Input(shape)` object as the first layer in the model instead.\n",
      "  super().__init__(activity_regularizer=activity_regularizer, **kwargs)\n",
      "/opt/anaconda3/lib/python3.12/site-packages/keras/src/layers/core/dense.py:87: UserWarning: Do not pass an `input_shape`/`input_dim` argument to a layer. When using Sequential models, prefer using an `Input(shape)` object as the first layer in the model instead.\n",
      "  super().__init__(activity_regularizer=activity_regularizer, **kwargs)\n",
      "/opt/anaconda3/lib/python3.12/site-packages/keras/src/layers/core/dense.py:87: UserWarning: Do not pass an `input_shape`/`input_dim` argument to a layer. When using Sequential models, prefer using an `Input(shape)` object as the first layer in the model instead.\n",
      "  super().__init__(activity_regularizer=activity_regularizer, **kwargs)\n",
      "/opt/anaconda3/lib/python3.12/site-packages/keras/src/layers/core/dense.py:87: UserWarning: Do not pass an `input_shape`/`input_dim` argument to a layer. When using Sequential models, prefer using an `Input(shape)` object as the first layer in the model instead.\n",
      "  super().__init__(activity_regularizer=activity_regularizer, **kwargs)\n",
      "/opt/anaconda3/lib/python3.12/site-packages/keras/src/layers/core/dense.py:87: UserWarning: Do not pass an `input_shape`/`input_dim` argument to a layer. When using Sequential models, prefer using an `Input(shape)` object as the first layer in the model instead.\n",
      "  super().__init__(activity_regularizer=activity_regularizer, **kwargs)\n",
      "/opt/anaconda3/lib/python3.12/site-packages/keras/src/layers/core/dense.py:87: UserWarning: Do not pass an `input_shape`/`input_dim` argument to a layer. When using Sequential models, prefer using an `Input(shape)` object as the first layer in the model instead.\n",
      "  super().__init__(activity_regularizer=activity_regularizer, **kwargs)\n"
     ]
    },
    {
     "name": "stdout",
     "output_type": "stream",
     "text": [
      "   Data Size Hidden Layers  Training Error  Validation Error  \\\n",
      "0       1000             4          0.0400            0.0300   \n",
      "1       1000           4×4          0.0400            0.1000   \n",
      "2      10000             4          0.0030            0.0040   \n",
      "3      10000           4×4          0.0021            0.0070   \n",
      "4     100000             4          0.2419            0.2425   \n",
      "5     100000           4×4          0.2419            0.2425   \n",
      "\n",
      "   Execution Time (s)  \n",
      "0                1.19  \n",
      "1                1.14  \n",
      "2                3.19  \n",
      "3                3.33  \n",
      "4                9.10  \n",
      "5                9.49  \n"
     ]
    }
   ],
   "source": [
    "# Function to build and evaluate the model\n",
    "def train_deep_learning_model(X, y, layers_config, data_size):\n",
    "    results = {}\n",
    "    X_train, X_val, y_train, y_val = train_test_split(X, y, test_size=0.2, random_state=42)\n",
    "\n",
    "    # Standardize features\n",
    "    scaler = StandardScaler()\n",
    "    X_train = scaler.fit_transform(X_train)\n",
    "    X_val = scaler.transform(X_val)\n",
    "\n",
    "    # Build model\n",
    "    model = Sequential()\n",
    "    model.add(Dense(layers_config[0], input_dim=X_train.shape[1], activation='relu'))\n",
    "    for units in layers_config[1:]:\n",
    "        model.add(Dense(units, activation='relu'))\n",
    "    model.add(Dense(1, activation='sigmoid'))\n",
    "\n",
    "    model.compile(optimizer=Adam(),\n",
    "                  loss=BinaryCrossentropy(),\n",
    "                  metrics=[BinaryAccuracy()])\n",
    "\n",
    "    start_time = time.time()\n",
    "    history = model.fit(X_train, y_train,\n",
    "                        epochs=30,\n",
    "                        batch_size=32,\n",
    "                        validation_data=(X_val, y_val),\n",
    "                        verbose=0)\n",
    "    end_time = time.time()\n",
    "    \n",
    "    # Record metrics\n",
    "    training_error = 1 - history.history['binary_accuracy'][-1]\n",
    "    validation_error = 1 - history.history['val_binary_accuracy'][-1]\n",
    "    exec_time = end_time - start_time\n",
    "\n",
    "    results['Data Size'] = data_size\n",
    "    results['Hidden Layers'] = '×'.join(map(str, layers_config))\n",
    "    results['Training Error'] = round(training_error, 4)\n",
    "    results['Validation Error'] = round(validation_error, 4)\n",
    "    results['Execution Time (s)'] = round(exec_time, 2)\n",
    "\n",
    "    return results\n",
    "\n",
    "# Run experiments\n",
    "dataset_sizes = [1000, 10000, 100000]\n",
    "layer_configs = [[4], [4, 4]]\n",
    "all_results = []\n",
    "\n",
    "for size in dataset_sizes:\n",
    "    df = pd.read_csv(f\"synthetic_data{size}.csv\")\n",
    "    X = df.drop('outcome', axis=1).values\n",
    "    y = df['outcome'].values\n",
    "\n",
    "    for config in layer_configs:\n",
    "        result = train_deep_learning_model(X, y, config, size)\n",
    "        all_results.append(result)\n",
    "\n",
    "# Save and display results\n",
    "results_df = pd.DataFrame(all_results)\n",
    "print(results_df)\n",
    "results_df.to_csv(\"deep_learning_results.csv\", index=False)"
   ]
  },
  {
   "cell_type": "code",
   "execution_count": null,
   "id": "e6f6b490-340f-49ab-9633-89f789bd9ffa",
   "metadata": {},
   "outputs": [],
   "source": []
  }
 ],
 "metadata": {
  "kernelspec": {
   "display_name": "Python 3 (ipykernel)",
   "language": "python",
   "name": "python3"
  },
  "language_info": {
   "codemirror_mode": {
    "name": "ipython",
    "version": 3
   },
   "file_extension": ".py",
   "mimetype": "text/x-python",
   "name": "python",
   "nbconvert_exporter": "python",
   "pygments_lexer": "ipython3",
   "version": "3.12.4"
  }
 },
 "nbformat": 4,
 "nbformat_minor": 5
}
