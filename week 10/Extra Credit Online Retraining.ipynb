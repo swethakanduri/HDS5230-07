{
 "cells": [
  {
   "cell_type": "code",
   "execution_count": 64,
   "id": "7be0d6f6-793d-4ec4-b869-dbe7e27163ca",
   "metadata": {},
   "outputs": [],
   "source": [
    "#NAME: Swetha Kanduri\n",
    "#Week 10"
   ]
  },
  {
   "cell_type": "code",
   "execution_count": 65,
   "id": "ba11a625-3ca6-4482-a129-1fd11d4f0f4a",
   "metadata": {},
   "outputs": [],
   "source": [
    "# Import necessary libraries\n",
    "import pandas as pd\n",
    "from sklearn.dummy import DummyClassifier\n",
    "from sklearn.neighbors import KNeighborsClassifier\n",
    "from sklearn.metrics import accuracy_score, precision_score, recall_score\n",
    "from sklearn.model_selection import train_test_split"
   ]
  },
  {
   "cell_type": "code",
   "execution_count": 66,
   "id": "0f76dfae-04f5-4a86-a85b-7d422a157361",
   "metadata": {},
   "outputs": [
    {
     "data": {
      "text/html": [
       "<div>\n",
       "<style scoped>\n",
       "    .dataframe tbody tr th:only-of-type {\n",
       "        vertical-align: middle;\n",
       "    }\n",
       "\n",
       "    .dataframe tbody tr th {\n",
       "        vertical-align: top;\n",
       "    }\n",
       "\n",
       "    .dataframe thead th {\n",
       "        text-align: right;\n",
       "    }\n",
       "</style>\n",
       "<table border=\"1\" class=\"dataframe\">\n",
       "  <thead>\n",
       "    <tr style=\"text-align: right;\">\n",
       "      <th></th>\n",
       "      <th>Unnamed: 0</th>\n",
       "      <th>key</th>\n",
       "      <th>x</th>\n",
       "      <th>y</th>\n",
       "      <th>result</th>\n",
       "    </tr>\n",
       "  </thead>\n",
       "  <tbody>\n",
       "    <tr>\n",
       "      <th>0</th>\n",
       "      <td>0</td>\n",
       "      <td>1</td>\n",
       "      <td>-0.167995</td>\n",
       "      <td>-0.715184</td>\n",
       "      <td>False</td>\n",
       "    </tr>\n",
       "    <tr>\n",
       "      <th>1</th>\n",
       "      <td>1</td>\n",
       "      <td>1</td>\n",
       "      <td>0.650967</td>\n",
       "      <td>0.807528</td>\n",
       "      <td>True</td>\n",
       "    </tr>\n",
       "    <tr>\n",
       "      <th>2</th>\n",
       "      <td>2</td>\n",
       "      <td>1</td>\n",
       "      <td>0.046858</td>\n",
       "      <td>-0.264659</td>\n",
       "      <td>False</td>\n",
       "    </tr>\n",
       "    <tr>\n",
       "      <th>3</th>\n",
       "      <td>3</td>\n",
       "      <td>1</td>\n",
       "      <td>0.882458</td>\n",
       "      <td>-0.205609</td>\n",
       "      <td>False</td>\n",
       "    </tr>\n",
       "    <tr>\n",
       "      <th>4</th>\n",
       "      <td>4</td>\n",
       "      <td>1</td>\n",
       "      <td>-0.338443</td>\n",
       "      <td>-0.885061</td>\n",
       "      <td>True</td>\n",
       "    </tr>\n",
       "    <tr>\n",
       "      <th>...</th>\n",
       "      <td>...</td>\n",
       "      <td>...</td>\n",
       "      <td>...</td>\n",
       "      <td>...</td>\n",
       "      <td>...</td>\n",
       "    </tr>\n",
       "    <tr>\n",
       "      <th>995</th>\n",
       "      <td>995</td>\n",
       "      <td>1</td>\n",
       "      <td>0.902761</td>\n",
       "      <td>-0.487468</td>\n",
       "      <td>False</td>\n",
       "    </tr>\n",
       "    <tr>\n",
       "      <th>996</th>\n",
       "      <td>996</td>\n",
       "      <td>1</td>\n",
       "      <td>0.350615</td>\n",
       "      <td>0.028936</td>\n",
       "      <td>False</td>\n",
       "    </tr>\n",
       "    <tr>\n",
       "      <th>997</th>\n",
       "      <td>997</td>\n",
       "      <td>1</td>\n",
       "      <td>-0.955657</td>\n",
       "      <td>0.381122</td>\n",
       "      <td>False</td>\n",
       "    </tr>\n",
       "    <tr>\n",
       "      <th>998</th>\n",
       "      <td>998</td>\n",
       "      <td>1</td>\n",
       "      <td>-0.275499</td>\n",
       "      <td>-0.104344</td>\n",
       "      <td>False</td>\n",
       "    </tr>\n",
       "    <tr>\n",
       "      <th>999</th>\n",
       "      <td>999</td>\n",
       "      <td>1</td>\n",
       "      <td>-0.020387</td>\n",
       "      <td>-0.365589</td>\n",
       "      <td>False</td>\n",
       "    </tr>\n",
       "  </tbody>\n",
       "</table>\n",
       "<p>1000 rows × 5 columns</p>\n",
       "</div>"
      ],
      "text/plain": [
       "     Unnamed: 0  key         x         y  result\n",
       "0             0    1 -0.167995 -0.715184   False\n",
       "1             1    1  0.650967  0.807528    True\n",
       "2             2    1  0.046858 -0.264659   False\n",
       "3             3    1  0.882458 -0.205609   False\n",
       "4             4    1 -0.338443 -0.885061    True\n",
       "..          ...  ...       ...       ...     ...\n",
       "995         995    1  0.902761 -0.487468   False\n",
       "996         996    1  0.350615  0.028936   False\n",
       "997         997    1 -0.955657  0.381122   False\n",
       "998         998    1 -0.275499 -0.104344   False\n",
       "999         999    1 -0.020387 -0.365589   False\n",
       "\n",
       "[1000 rows x 5 columns]"
      ]
     },
     "execution_count": 66,
     "metadata": {},
     "output_type": "execute_result"
    }
   ],
   "source": [
    "# Load the CSV data\n",
    "fourth_df = pd.read_csv(\"fourth.csv\")\n",
    "fourth_df"
   ]
  },
  {
   "cell_type": "code",
   "execution_count": 67,
   "id": "99b99ece-609d-4f2b-a12f-99c7fdfe5a51",
   "metadata": {},
   "outputs": [],
   "source": [
    "# Helper Function to Extract Features and Labels\n",
    "def extract_X_Y(df):\n",
    "    X = df[[\"x\", \"y\"]].values\n",
    "    y = df[\"result\"].values\n",
    "    return X, y\n",
    "\n",
    "# Function to Evaluate the Model\n",
    "def model_evaluation(y_true, y_pred):\n",
    "    accuracy = accuracy_score(y_true, y_pred)\n",
    "    precision = precision_score(y_true, y_pred, zero_division=0)\n",
    "    recall = recall_score(y_true, y_pred, zero_division=0)\n",
    "    return accuracy, precision, recall\n",
    "\n",
    "# Retraining Function\n",
    "def retrain_model(df, model_type=\"KNN\", k=15, test_size=0.4, random_state=None):\n",
    "    \"\"\"\n",
    "    Retrains a model on the given dataframe.\n",
    "    \n",
    "    Parameters:\n",
    "        df (DataFrame): Dataset containing 'x', 'y', and 'result'\n",
    "        model_type (str): 'KNN' or 'Dummy'\n",
    "        k (int): Number of neighbors for KNN (used only if model_type='KNN')\n",
    "        test_size (float): Fraction of data to use as test set\n",
    "        random_state (int): Random seed for reproducibility\n",
    "    \n",
    "    Returns:\n",
    "        model: Trained model\n",
    "        metrics: Dictionary with accuracy, precision, recall\n",
    "    \"\"\"\n",
    "     # Split features and target\n",
    "    X, y = extract_X_Y(df)\n",
    "    # Split data into training and testing sets\n",
    "    X_train, X_test, y_train, y_test = train_test_split(X, y, test_size=test_size, random_state=random_state)\n",
    "\n",
    "    # Select the classifier type\n",
    "    if model_type == \"KNN\":\n",
    "        model = KNeighborsClassifier(n_neighbors=k)\n",
    "    elif model_type == \"Dummy\":\n",
    "        model = DummyClassifier(strategy=\"stratified\", random_state=random_state)\n",
    "    else:\n",
    "        raise ValueError(\"Invalid model_type. Choose 'KNN' or 'Dummy'.\")\n",
    "\n",
    "    # Fit the model and make predictions\n",
    "    model.fit(X_train, y_train)\n",
    "    y_pred = model.predict(X_test)\n",
    "    # Evaluate model performance\n",
    "    acc, prec, rec = model_evaluation(y_test, y_pred)\n",
    "    metrics = {\n",
    "        \"accuracy\": acc,\n",
    "        \"precision\": prec,\n",
    "        \"recall\": rec\n",
    "    }\n",
    "    \n",
    "    return model, metrics"
   ]
  },
  {
   "cell_type": "code",
   "execution_count": 68,
   "id": "a7a2d4ca-562b-4a1e-8e1d-6beadf7918d4",
   "metadata": {},
   "outputs": [
    {
     "name": "stdout",
     "output_type": "stream",
     "text": [
      "Retrained using KNN:\n",
      " {'accuracy': 0.9625, 'precision': 0.9393939393939394, 'recall': 0.9117647058823529}\n"
     ]
    }
   ],
   "source": [
    "# Retrain using KNN classifier\n",
    "knn_model, knn_metrics = retrain_model(fourth_df, model_type=\"KNN\", k=5)\n",
    "print(\"Retrained using KNN:\\n\", knn_metrics)"
   ]
  },
  {
   "cell_type": "raw",
   "id": "a68eebc0-706b-470d-af46-af4bc4f5f782",
   "metadata": {},
   "source": [
    "-Accuracy (96.25%): The KNN model performed exceptionally well overall, correctly predicting the result for over 96% of the test samples.\n",
    "-Precision (93.93%): Of all the positive predictions the model produced, over 94% were verified.  This indicates that the model does a great job of reducing false positives.\n",
    "-Recall (91.18%): The model demonstrated high sensitivity in detecting pertinent occurrences (i.e., low false negatives), detecting approximately 91% of the real positive cases."
   ]
  },
  {
   "cell_type": "code",
   "execution_count": 75,
   "id": "7a880e86-c127-457f-97d3-90b06bce7528",
   "metadata": {},
   "outputs": [
    {
     "name": "stdout",
     "output_type": "stream",
     "text": [
      "\n",
      "Retrained using Dummy Classifier:\n",
      " {'accuracy': 0.6375, 'precision': 0.28888888888888886, 'recall': 0.24299065420560748}\n"
     ]
    }
   ],
   "source": [
    "# Retrain using Dummy classifier\n",
    "dummy_model, dummy_metrics = retrain_model(fourth_df, model_type=\"Dummy\")\n",
    "print(\"\\nRetrained using Dummy Classifier:\\n\", dummy_metrics)"
   ]
  },
  {
   "cell_type": "raw",
   "id": "f0c0fd97-0c22-4835-9975-ca957b871f00",
   "metadata": {},
   "source": [
    "-Accuracy (63.75%): The dummy classifier seems to have a moderate level of accuracy, although this is false.  Instead of learning any patterns, dummy classifiers (using a stratified technique) generate random predictions based on the distribution of classes.\n",
    "-Precision (28.89%): The dummy classifier's positive predictions were accurate in less than 30% of cases.  This suggests a high rate of false positives.\n",
    "-Recall (24.29%): Only roughly 24% of real positive cases could be detected by the model.  It is therefore unreliable for identifying significant outcomes because it missed the majority of the true positives."
   ]
  }
 ],
 "metadata": {
  "kernelspec": {
   "display_name": "Python 3 (ipykernel)",
   "language": "python",
   "name": "python3"
  },
  "language_info": {
   "codemirror_mode": {
    "name": "ipython",
    "version": 3
   },
   "file_extension": ".py",
   "mimetype": "text/x-python",
   "name": "python",
   "nbconvert_exporter": "python",
   "pygments_lexer": "ipython3",
   "version": "3.12.4"
  }
 },
 "nbformat": 4,
 "nbformat_minor": 5
}
